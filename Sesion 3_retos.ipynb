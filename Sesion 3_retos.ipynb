{
 "cells": [
  {
   "cell_type": "markdown",
   "metadata": {},
   "source": [
    "## Retos del día\n",
    "\n",
    "Los retos del día están diseñados para permitirte practicar los conceptos aprendidos y empezar a explorar el lenguaje de programación. \n",
    "\n",
    "Recuerda tomar el tiempo en analizar y planear la solución antes de empezar a programar!\n",
    "\n",
    "### Reto del día 1\n",
    "\n",
    "Pedro y Jesús son dos hermanos, hijos únicos de Simón, y quienes tienen acceso a una bóveda en un exclusivo banco. El dueño original de esta bóveda es su padre, y en su testamento ha especificado las siguientes condiciones para que el banco le permita acceder a sus hijos al contenido de dicha bóveda. Las condiciones son las siguientes:\n",
    "\n",
    "    a. Juan debe ser mayor de 35 años, o Pedro debe ser menor de 50 años.\n",
    "    b. La suma de sus edades debe ser un número par.\n",
    "    c. Simón debe tener mínimo 1 nieto.\n",
    "\n",
    "Construye un algoritmo que lea la edad de Juan, la edad de Pedro y el número de nietos y calcule, usando condicionales, si tienen acceso (SI) o no (NO) a la bóveda."
   ]
  },
  {
   "cell_type": "code",
   "execution_count": 1,
   "metadata": {},
   "outputs": [
    {
     "data": {
      "text/plain": [
       "0"
      ]
     },
     "execution_count": 1,
     "metadata": {},
     "output_type": "execute_result"
    }
   ],
   "source": [
    "def reto1(edadJuan, edadPedro,nietos):\n",
    "   # Escribe tu código aquí. Manten la indentación!!\n",
    "    \n",
    "    return 0 # Reemplaza 0 por la variable que tiene el resultado\n",
    "\n",
    "reto1(36, 45, 2)"
   ]
  },
  {
   "cell_type": "markdown",
   "metadata": {},
   "source": [
    "### Reto del día 2\n",
    "\n",
    "El incremento salarial de la compañía Y se determina de acuerdo al desempeño de cada empleado. \n",
    "\n",
    "Cada jefe de área le asigna una calificación entre 1 y 50 a cada empleado por dos factores: culminación de proyectos y trabajo en equipo. El desempeño es calculado sumando el resultado de ambos factores y determinando el porcentaje total.\n",
    "\n",
    "Los empleados que obtengan más del 60% de desempeño y al menos 30 puntos en cada factor obtendrán un incremento de 5%. El resto de empleados obtendran 2.5%.\n",
    "\n",
    "Escribe el código que permita, a partir del valor de los factores ingresados por el gerente, determine el porcentaje e imprima el porcentaje (0.025 = 2.5% y 0.05 = 5%)."
   ]
  },
  {
   "cell_type": "code",
   "execution_count": 2,
   "metadata": {},
   "outputs": [
    {
     "data": {
      "text/plain": [
       "0"
      ]
     },
     "execution_count": 2,
     "metadata": {},
     "output_type": "execute_result"
    }
   ],
   "source": [
    "def reto2(factorProyecto, factorEquipo):\n",
    "    # Escribe tu código aquí. Manten la indentación!!\n",
    "    \n",
    "    return 0 # Reemplaza 0 por la variable que tiene el resultado\n",
    "\n",
    "reto2(25,50) "
   ]
  },
  {
   "cell_type": "markdown",
   "metadata": {},
   "source": [
    "### Reto del día 3 \n",
    "\n",
    "Escribe un algoritmo que dado un número del 1 al 10 determine si es par o impar."
   ]
  },
  {
   "cell_type": "code",
   "execution_count": 3,
   "metadata": {},
   "outputs": [
    {
     "data": {
      "text/plain": [
       "0"
      ]
     },
     "execution_count": 3,
     "metadata": {},
     "output_type": "execute_result"
    }
   ],
   "source": [
    "def reto3(x):\n",
    "    # Escribe tu código aquí. Manten la identación!!\n",
    "    \n",
    "    return 0 # Reemplaza 0 por la variable que tiene el resultado\n",
    "reto3(5) "
   ]
  }
 ],
 "metadata": {
  "kernelspec": {
   "display_name": "Python 3",
   "language": "python",
   "name": "python3"
  },
  "language_info": {
   "codemirror_mode": {
    "name": "ipython",
    "version": 3
   },
   "file_extension": ".py",
   "mimetype": "text/x-python",
   "name": "python",
   "nbconvert_exporter": "python",
   "pygments_lexer": "ipython3",
   "version": "3.8.3"
  }
 },
 "nbformat": 4,
 "nbformat_minor": 4
}
