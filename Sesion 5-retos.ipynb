{
 "cells": [
  {
   "cell_type": "markdown",
   "metadata": {},
   "source": [
    "## Retos del día\n",
    "\n",
    "Los retos del día están diseñados para permitirte practicar los conceptos aprendidos y empezar a explorar el lenguaje de programación. \n",
    "\n",
    "Recuerda tomar el tiempo en analizar y planear la solución antes de empezar a programar!\n",
    "\n",
    "### Reto del día 1\n",
    "\n",
    "Escriba un algoritmo que lea un número entero N mayor que 100 (debe validar el número y si es menor de 100 retornar \"Error en el numero\"). Si N termina en 4,7 ó 9; diga si es divisible por 3, si termina en 1 ó 5, divida por 10 y retorne el valor entero, en otro caso divida el número entre 3 y retorne su residuo. "
   ]
  },
  {
   "cell_type": "code",
   "execution_count": 1,
   "metadata": {},
   "outputs": [
    {
     "data": {
      "text/plain": [
       "0"
      ]
     },
     "execution_count": 1,
     "metadata": {},
     "output_type": "execute_result"
    }
   ],
   "source": [
    "def reto1(N):\n",
    "   # Escribe tu código aquí. Manten la indentación!!\n",
    "    \n",
    "    return 0 # Reemplaza 0 por la variable que tiene el resultado\n",
    "\n",
    "reto1(164)"
   ]
  },
  {
   "cell_type": "markdown",
   "metadata": {},
   "source": [
    "### Reto del día 2\n",
    "\n",
    "La ley de Ohm establece una relación entre la intensidad de corriente (I) que circula por un circuito, la diferencia de potencial (V) y la resistencia (R) del mismo mediante la siguiente fórmula: I =V / R \n",
    "\n",
    "\n",
    "Hacer un algoritmo que solicite la opción a calcular: 1 para calcular I, 2 para calcular V o 3 para calcular R utilizando Dependiendo_De; asi como tres variables I, V y R donde aquella a calcular sea 0.\n",
    "\n",
    "El codigo debe mostrar el resultado. <b>Ojo:</b> Se debe validar que los datos suministrados deben ser mayores que cero excepto para la variable a calcular, de lo contrario retornar \"Error en los numeros\". "
   ]
  },
  {
   "cell_type": "code",
   "execution_count": 5,
   "metadata": {},
   "outputs": [
    {
     "data": {
      "text/plain": [
       "0"
      ]
     },
     "execution_count": 5,
     "metadata": {},
     "output_type": "execute_result"
    }
   ],
   "source": [
    "def reto2(opcion, valorI, valorV, valorR):\n",
    "    # Escribe tu código aquí. Manten la indentación!!\n",
    "    \n",
    "    return 0 # Reemplaza 0 por la variable que tiene el resultado\n",
    "reto2(2,2.5,0,50) "
   ]
  },
  {
   "cell_type": "markdown",
   "metadata": {},
   "source": [
    "### Reto del día 3 \n",
    "\n",
    "Construye un algoritmo que dados 3 números que representan una fecha (MM, DD, AA), el algoritmo debe mostrar la fecha en formato largo. Ej. si los números ingresados son: 11, 7, 85 la fecha a mostrar sería “Noviembre, 7 de 1985”. Ojo: Conserva el formato mostrado incluyendo comas y espacios.\n",
    "\n",
    "Utilizar Dependiendo_De para determinar el Mes y validar que el dia este entre 1 y 31, el mes entre 1 y 12 y el año entre 1 y 99. Si alguna validación falla, retornar \"Error en los numeros\". "
   ]
  },
  {
   "cell_type": "code",
   "execution_count": 3,
   "metadata": {},
   "outputs": [
    {
     "data": {
      "text/plain": [
       "0"
      ]
     },
     "execution_count": 3,
     "metadata": {},
     "output_type": "execute_result"
    }
   ],
   "source": [
    "def reto3(mes, año, dia):\n",
    "    # Escribe tu código aquí. Manten la indentación!!\n",
    "    \n",
    "    return 0 # Reemplaza 0 por la variable que tiene el resultado\n",
    "reto3(11,7,85) "
   ]
  }
 ],
 "metadata": {
  "kernelspec": {
   "display_name": "Python 3",
   "language": "python",
   "name": "python3"
  },
  "language_info": {
   "codemirror_mode": {
    "name": "ipython",
    "version": 3
   },
   "file_extension": ".py",
   "mimetype": "text/x-python",
   "name": "python",
   "nbconvert_exporter": "python",
   "pygments_lexer": "ipython3",
   "version": "3.8.3"
  }
 },
 "nbformat": 4,
 "nbformat_minor": 4
}
