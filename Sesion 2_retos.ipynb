{
 "cells": [
  {
   "cell_type": "markdown",
   "metadata": {},
   "source": [
    "## Retos del día\n",
    "\n",
    "Los retos del día están diseñados para permitirte practicar los conceptos aprendidos y empezar a explorar el lenguaje de programación. \n",
    "\n",
    "Recuerda tomar el tiempo en analizar y planear la solución antes de empezar a programar!\n",
    "\n",
    "### Reto del día 1\n",
    "\n",
    "Escribe un algoritmo que lea un número de 4 dígitos y lo invierta."
   ]
  },
  {
   "cell_type": "code",
   "execution_count": null,
   "metadata": {},
   "outputs": [],
   "source": [
    "def reto1(x):\n",
    "    # Escribe tu código aquí. Manten la indentación!!\n",
    "    \n",
    "    return 0 # Reemplaza 0 por la variable que tiene el resultado\n",
    "\n",
    "reto1(1234) "
   ]
  },
  {
   "cell_type": "markdown",
   "metadata": {},
   "source": [
    "### Reto del día 2\n",
    "\n",
    "En una alcancía se tienen monedas de 50, 100, 200 y 500 pesos. Escriba el algoritmo que permita averiguar cuánto dinero hay en la alcancía. En este caso, pregunta al usuario que ingrese el número de monedas de cada denominación.\n"
   ]
  },
  {
   "cell_type": "code",
   "execution_count": null,
   "metadata": {},
   "outputs": [],
   "source": [
    "def reto2(x50,x100,x200,x500):\n",
    "    # Escribe tu código aquí. Manten la indentación!!\n",
    "    \n",
    "    return 0 # Reemplaza 0 por la variable que tiene el resultado\n",
    "\n",
    "reto2(1,2,1,2)"
   ]
  },
  {
   "cell_type": "markdown",
   "metadata": {},
   "source": [
    "### Reto del día 3\n",
    "Escribe el código para obtener la raiz cuadrada de x, asigna el resultado a una variable b y redondea este valor a cero decimales. Imprime b\n"
   ]
  },
  {
   "cell_type": "code",
   "execution_count": null,
   "metadata": {},
   "outputs": [],
   "source": [
    "def reto3(x):\n",
    "    # Escribe tu código aquí. Manten la indentación!!\n",
    "    \n",
    "    return 0 # Reemplaza 0 por la variable que tiene el resultado\n",
    "\n",
    "reto3(25)"
   ]
  },
  {
   "cell_type": "markdown",
   "metadata": {},
   "source": [
    "### Reto del día 4\n",
    "La ejecución del siguiente código puede ser incorrecta si el usuario no ingresa el numero de la forma correcta. Modifica el código para que devuelva la suma de las dos variables\n"
   ]
  },
  {
   "cell_type": "code",
   "execution_count": 3,
   "metadata": {},
   "outputs": [
    {
     "data": {
      "text/plain": [
       "'44'"
      ]
     },
     "execution_count": 3,
     "metadata": {},
     "output_type": "execute_result"
    }
   ],
   "source": [
    "def reto4(x,y):\n",
    "\n",
    "    resultado = x+y\n",
    "    \n",
    "    return resultado\n",
    "\n",
    "reto4(\"4\",\"4\")"
   ]
  }
 ],
 "metadata": {
  "kernelspec": {
   "display_name": "Python 3",
   "language": "python",
   "name": "python3"
  },
  "language_info": {
   "codemirror_mode": {
    "name": "ipython",
    "version": 3
   },
   "file_extension": ".py",
   "mimetype": "text/x-python",
   "name": "python",
   "nbconvert_exporter": "python",
   "pygments_lexer": "ipython3",
   "version": "3.8.3"
  }
 },
 "nbformat": 4,
 "nbformat_minor": 4
}
